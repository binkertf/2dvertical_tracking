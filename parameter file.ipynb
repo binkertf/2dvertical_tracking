{
 "cells": [
  {
   "cell_type": "code",
   "execution_count": 1,
   "metadata": {},
   "outputs": [],
   "source": [
    "from args import Args\n",
    "import numpy as np"
   ]
  },
  {
   "cell_type": "code",
   "execution_count": 10,
   "metadata": {},
   "outputs": [],
   "source": [
    "# generate the parameter file\n",
    "parameter_list = [\n",
    "                #disk\n",
    "                  'r_min = 0.4 #[AU]', \n",
    "                  'r_max = 7.0 #[AU]',\n",
    "                  'r_N = 500',\n",
    "                  'z_max = 0.6 #[AU]',\n",
    "                  'z_N = 501',\n",
    "    \n",
    "                # gas\n",
    "                  'sigma0 = 2000. #gas surface density at 1 AU  [g/cm3]', \n",
    "                  'ps = -1.5 #surface density power law exponent',\n",
    "                  'T0 = 280. #gas temperature at 1 AU [K]',\n",
    "                  'q = -0.5 #temperature power law index',\n",
    "                  'alpha = 1.0e-3 #turbulence parameter',\n",
    "                #dust\n",
    "                  'dtg = 0.01 #dust-to-gas ratio',\n",
    "                  'v_f = 500. #fragmemntation velocoty [cm/s]',\n",
    "                  'rho_s = 1.5 #dust solid density [g/cm3]',\n",
    "                  'a_min = 1.0e-5 #monormer radius (smallest grain size)[cm]',\n",
    "                  'a_max = 100. #maximum dust particle size bin [cm]',\n",
    "                  'Nf = 300 #number of dust particle bins',\n",
    "                  \n",
    "                #particle\n",
    "                  'a0 = 1.0e-5 #initial dust particle size [cm]',\n",
    "                  'z0 = 0.0 #initial altitude above the midplane [AU]',\n",
    "                  'r0 = 5.0 #initial radial position [AU] ',\n",
    "                  \n",
    "                #simulation modes   \n",
    "                  'collisions = True',\n",
    "                  'feps = 0.1 #group all the collisions below this mass fraction',\n",
    "                  'f_diff = 1.0e-2',\n",
    "                  'f_coll = 1.0',\n",
    "                  'randmotion = False #random dust motion due to turbulence',\n",
    "                  'viscev = False #viscous evolution of the gas background (not yet implemented)',\n",
    "                  'rad_vel = Nakagawa #Nakagawa86, T&L02, Fabian20'\n",
    "                    \n",
    "                \n",
    "                 ]\n",
    "\n",
    "\n",
    "\n",
    "with open('parameters.inp', 'w') as file_handler:\n",
    "    for item in parameter_list:\n",
    "        file_handler.write(\"{}\\n\".format(item))"
   ]
  },
  {
   "cell_type": "code",
   "execution_count": 11,
   "metadata": {},
   "outputs": [],
   "source": [
    "parameter_file = Args()"
   ]
  },
  {
   "cell_type": "code",
   "execution_count": 12,
   "metadata": {},
   "outputs": [],
   "source": [
    "parameter_file.read_args()"
   ]
  },
  {
   "cell_type": "code",
   "execution_count": 13,
   "metadata": {},
   "outputs": [
    {
     "data": {
      "text/plain": [
       "[['r_min', float],\n",
       " ['r_max', float],\n",
       " ['r_N', int],\n",
       " ['z_max', float],\n",
       " ['z_N', int],\n",
       " ['sigma0', float],\n",
       " ['T0', float],\n",
       " ['ps', float],\n",
       " ['q', float],\n",
       " ['alpha', float],\n",
       " ['dtg', float],\n",
       " ['v_f', float],\n",
       " ['rho_s', float],\n",
       " ['a_min', float],\n",
       " ['a_max', float],\n",
       " ['Nf', int],\n",
       " ['a0', float],\n",
       " ['z0', float],\n",
       " ['r0', float],\n",
       " ['collisions', bool],\n",
       " ['feps', float],\n",
       " ['f_diff', float],\n",
       " ['f_coll', float],\n",
       " ['randmotion', bool],\n",
       " ['viscev', bool],\n",
       " ['rad_vel', str]]"
      ]
     },
     "execution_count": 13,
     "metadata": {},
     "output_type": "execute_result"
    }
   ],
   "source": [
    "parameter_file.varlist"
   ]
  },
  {
   "cell_type": "code",
   "execution_count": 14,
   "metadata": {},
   "outputs": [
    {
     "data": {
      "text/plain": [
       "True"
      ]
     },
     "execution_count": 14,
     "metadata": {},
     "output_type": "execute_result"
    }
   ],
   "source": [
    "parameter_file.collisions"
   ]
  },
  {
   "cell_type": "code",
   "execution_count": 15,
   "metadata": {},
   "outputs": [
    {
     "data": {
      "text/plain": [
       "False"
      ]
     },
     "execution_count": 15,
     "metadata": {},
     "output_type": "execute_result"
    }
   ],
   "source": [
    "parameter_file.viscev"
   ]
  },
  {
   "cell_type": "code",
   "execution_count": 7,
   "metadata": {},
   "outputs": [
    {
     "data": {
      "text/plain": [
       "'Nakagawa'"
      ]
     },
     "execution_count": 7,
     "metadata": {},
     "output_type": "execute_result"
    }
   ],
   "source": [
    "parameter_file.rad_vel"
   ]
  },
  {
   "cell_type": "code",
   "execution_count": 8,
   "metadata": {},
   "outputs": [
    {
     "name": "stdout",
     "output_type": "stream",
     "text": [
      "0.5\n",
      "initialization done.\n",
      "0.4\n"
     ]
    }
   ],
   "source": [
    "from simu import Simu\n",
    "import constants as c\n",
    "simulation = Simu()\n",
    "print(simulation.disk.r_min/c.AU)\n",
    "simulation.initialize()\n",
    "print(simulation.disk.r_min/c.AU)"
   ]
  },
  {
   "cell_type": "code",
   "execution_count": null,
   "metadata": {},
   "outputs": [],
   "source": [
    "print(eval())"
   ]
  }
 ],
 "metadata": {
  "kernelspec": {
   "display_name": "Python 3",
   "language": "python",
   "name": "python3"
  },
  "language_info": {
   "codemirror_mode": {
    "name": "ipython",
    "version": 3
   },
   "file_extension": ".py",
   "mimetype": "text/x-python",
   "name": "python",
   "nbconvert_exporter": "python",
   "pygments_lexer": "ipython3",
   "version": "3.7.4"
  }
 },
 "nbformat": 4,
 "nbformat_minor": 2
}
