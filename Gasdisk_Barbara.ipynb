{
 "cells": [
  {
   "cell_type": "code",
   "execution_count": 1,
   "metadata": {},
   "outputs": [],
   "source": [
    "import numpy as np\n",
    "import constants as c\n",
    "import matplotlib.pyplot as plt\n",
    "import matplotlib.colors as colors"
   ]
  },
  {
   "cell_type": "code",
   "execution_count": 1,
   "metadata": {},
   "outputs": [],
   "source": [
    "AU = 1.49598e+13 "
   ]
  },
  {
   "cell_type": "code",
   "execution_count": 2,
   "metadata": {},
   "outputs": [
    {
     "name": "stdout",
     "output_type": "stream",
     "text": [
      "1.5958029453488698e-09\n"
     ]
    }
   ],
   "source": [
    "mp = 1.6726219e-24 #proton mass in g\n",
    "\n",
    "rho_s = 1.4 #g/cm3\n",
    "a = 0.1\n",
    "m_dust = rho_s*(4.*np.pi/3.)*a**3.\n",
    "\n",
    "dtg = 0.01\n",
    "sigma0 = 2000. #g/cm2\n",
    "T0 = 280. #K\n",
    "\n",
    "h0 = np.sqrt((c.kB*T0)/(c.G*c.Mstar*c.mg))*(c.AU)**(3./2.)\n",
    "q = -1./2.\n",
    "ps = -3./2.\n",
    "p = ps-0.5*(3.+q)\n",
    "rho0 = sigma0/(h0*np.sqrt(2.*np.pi))\n",
    "print(rho0)\n"
   ]
  },
  {
   "cell_type": "code",
   "execution_count": 3,
   "metadata": {},
   "outputs": [],
   "source": [
    "def rhog(r,z):\n",
    "    rho_g = 0.0\n",
    "    hg = 0.0\n",
    "    hg = h0*(r/c.AU)**(0.5*(3.+q))\n",
    "    if (np.sqrt(r**2.+z**2.)<(0.1*c.AU)):\n",
    "        rho_g = 0.0\n",
    "    elif (r<0.1*c.AU):\n",
    "        rho_g = 0.0\n",
    "    else:\n",
    "        rho_g = rho0*(r/c.AU)**p*np.exp(-z**2./(2.*hg**2))\n",
    "    return rho_g"
   ]
  },
  {
   "cell_type": "code",
   "execution_count": 4,
   "metadata": {},
   "outputs": [
    {
     "name": "stdout",
     "output_type": "stream",
     "text": [
      "32\n"
     ]
    }
   ],
   "source": [
    "### X-Grid\n",
    "x_min = 0.0*c.AU\n",
    "x_max = 10.0*c.AU\n",
    "N_x = 200\n",
    "dx = (x_max-x_min)/N_x\n",
    "x_grid = np.linspace(x_min,x_max,N_x)\n",
    "\n",
    "#Y-Grid\n",
    "y_min = 0.0\n",
    "y_max = 0.0\n",
    "N_y = 1\n",
    "y_grid = np.linspace(y_min,y_max,N_y )\n",
    "\n",
    "#Z-Grid\n",
    "z_max = 0.8*c.AU\n",
    "z_min = -z_max\n",
    "N_z = int((z_max-z_min)/dx)\n",
    "print(N_z)\n",
    "N_z = 33\n",
    "z_grid = np.linspace(z_min,z_max,N_z)\n"
   ]
  },
  {
   "cell_type": "code",
   "execution_count": 5,
   "metadata": {},
   "outputs": [],
   "source": [
    "rho_plot = np.zeros((N_x,N_z))"
   ]
  },
  {
   "cell_type": "code",
   "execution_count": 6,
   "metadata": {},
   "outputs": [
    {
     "name": "stdout",
     "output_type": "stream",
     "text": [
      "(6600, 4)\n"
     ]
    }
   ],
   "source": [
    "N0 = N_x*N_y*N_z\n",
    "data = np.zeros((N0,4))\n",
    "dust_data = np.zeros((N0,4))\n",
    "print(data.shape)\n",
    "\n",
    "for i,x in enumerate(x_grid):\n",
    "    for j,y in enumerate (y_grid):\n",
    "        for k,z in enumerate (z_grid):\n",
    "            m = k+(j*(N_z-1))+(i*(N_z+N_y-1))\n",
    "            data[m,0] = x\n",
    "            data[m,1] = y\n",
    "            data[m,2] = z\n",
    "            data[m,3] = rhog(x,z)/mp\n",
    "            \n",
    "            dust_data[m,0] = x\n",
    "            dust_data[m,1] = y\n",
    "            dust_data[m,2] = z\n",
    "            dust_data[m,3] = dtg*rhog(x,z)/m_dust\n",
    "            \n",
    "            rho_plot[i,k] = rhog(x,z)   "
   ]
  },
  {
   "cell_type": "code",
   "execution_count": 7,
   "metadata": {},
   "outputs": [
    {
     "name": "stdout",
     "output_type": "stream",
     "text": [
      "(200, 33)\n",
      "(200, 33)\n"
     ]
    },
    {
     "data": {
      "image/png": "[encoded data removed]",
      "text/plain": [
       "<Figure size 432x288 with 1 Axes>"
      ]
     },
     "metadata": {
      "needs_background": "light"
     },
     "output_type": "display_data"
    }
   ],
   "source": [
    "print(rho_plot.shape)\n",
    "z_plot,x_plot = np.meshgrid(z_grid, x_grid)\n",
    "print(x_plot.shape)\n",
    "\n",
    "plt.figure()\n",
    "plt.pcolormesh(x_plot/c.AU, z_plot/c.AU, rho_plot,norm=colors.LogNorm(vmin=1.0e-50, vmax=np.max(rho_plot)), cmap='magma')\n",
    "plt.show()"
   ]
  },
  {
   "cell_type": "code",
   "execution_count": 8,
   "metadata": {},
   "outputs": [
    {
     "name": "stdout",
     "output_type": "stream",
     "text": [
      "[[ 0.00000000e+00  0.00000000e+00 -1.19678400e+13  0.00000000e+00]\n",
      " [ 0.00000000e+00  0.00000000e+00 -1.12198500e+13  0.00000000e+00]\n",
      " [ 0.00000000e+00  0.00000000e+00 -1.04718600e+13  0.00000000e+00]\n",
      " ...\n",
      " [ 1.49598000e+14  0.00000000e+00  1.04718600e+13  8.47937542e+11]\n",
      " [ 1.49598000e+14  0.00000000e+00  1.12198500e+13  7.65236983e+11]\n",
      " [ 1.49598000e+14  0.00000000e+00  1.19678400e+13  6.85731956e+11]]\n"
     ]
    }
   ],
   "source": [
    "print(data)"
   ]
  },
  {
   "cell_type": "code",
   "execution_count": 9,
   "metadata": {},
   "outputs": [],
   "source": [
    "np.savetxt('2D_Hdensity.txt', data, delimiter=' ')\n",
    "np.savetxt('2D_dust_density.txt', dust_data, delimiter=' ')"
   ]
  },
  {
   "cell_type": "code",
   "execution_count": 10,
   "metadata": {},
   "outputs": [
    {
     "name": "stdout",
     "output_type": "stream",
     "text": [
      "[[ 0.00000000e+00  0.00000000e+00 -1.19678400e+13  0.00000000e+00]\n",
      " [ 0.00000000e+00  0.00000000e+00 -1.12198500e+13  0.00000000e+00]\n",
      " [ 0.00000000e+00  0.00000000e+00 -1.04718600e+13  0.00000000e+00]\n",
      " ...\n",
      " [ 1.49598000e+14  0.00000000e+00  1.04718600e+13  2.41849391e-12]\n",
      " [ 1.49598000e+14  0.00000000e+00  1.12198500e+13  2.18261474e-12]\n",
      " [ 1.49598000e+14  0.00000000e+00  1.19678400e+13  1.95584990e-12]]\n"
     ]
    }
   ],
   "source": [
    "print(dust_data)"
   ]
  },
  {
   "cell_type": "code",
   "execution_count": 11,
   "metadata": {},
   "outputs": [
    {
     "name": "stdout",
     "output_type": "stream",
     "text": [
      "[[ 0.00000000e+00  0.00000000e+00 -1.19678400e+13  0.00000000e+00]\n",
      " [ 0.00000000e+00  0.00000000e+00 -1.12198500e+13  0.00000000e+00]\n",
      " [ 0.00000000e+00  0.00000000e+00 -1.04718600e+13  0.00000000e+00]\n",
      " ...\n",
      " [ 1.49598000e+14  0.00000000e+00  1.04718600e+13  8.47937542e+11]\n",
      " [ 1.49598000e+14  0.00000000e+00  1.12198500e+13  7.65236983e+11]\n",
      " [ 1.49598000e+14  0.00000000e+00  1.19678400e+13  6.85731956e+11]]\n"
     ]
    }
   ],
   "source": [
    "print(data)"
   ]
  },
  {
   "cell_type": "code",
   "execution_count": 12,
   "metadata": {},
   "outputs": [
    {
     "name": "stdout",
     "output_type": "stream",
     "text": [
      "8.851008021862864e-09\n",
      "8.851008021862863e-07\n"
     ]
    }
   ],
   "source": [
    "print(np.max(dust_data[:,3])*m_dust)\n",
    "print(np.max(data[:,3])*mp)"
   ]
  },
  {
   "cell_type": "code",
   "execution_count": null,
   "metadata": {},
   "outputs": [],
   "source": []
  }
 ],
 "metadata": {
  "kernelspec": {
   "display_name": "Python 3",
   "language": "python",
   "name": "python3"
  },
  "language_info": {
   "codemirror_mode": {
    "name": "ipython",
    "version": 3
   },
   "file_extension": ".py",
   "mimetype": "text/x-python",
   "name": "python",
   "nbconvert_exporter": "python",
   "pygments_lexer": "ipython3",
   "version": "3.7.4"
  }
 },
 "nbformat": 4,
 "nbformat_minor": 2
}
