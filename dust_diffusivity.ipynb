{
 "cells": [
  {
   "cell_type": "code",
   "execution_count": 1,
   "metadata": {},
   "outputs": [],
   "source": [
    "import numpy as np\n",
    "import scipy as sp\n",
    "import constants as c\n",
    "import matplotlib.pyplot as plt\n",
    "import matplotlib.colors as colors\n",
    "from simu import Simu"
   ]
  },
  {
   "cell_type": "code",
   "execution_count": 2,
   "metadata": {},
   "outputs": [],
   "source": [
    "r_min = 1.0*c.AU\n",
    "r_max = 7.0*c.AU\n",
    "r_N = 500\n",
    "\n",
    "r_grid = np.linspace(r_min,r_max,r_N)\n",
    "z = 0.1*c.AU"
   ]
  },
  {
   "cell_type": "code",
   "execution_count": null,
   "metadata": {},
   "outputs": [],
   "source": [
    "a = 1.0e-1\n",
    "alpha = 1.0e-3\n",
    "\n",
    "q = -1./2\n",
    "ps = -3./4.\n",
    "p = ps-0.5*(3.+q)\n",
    "\n",
    "T0 = 280.\n",
    "sigma0 = 2000.\n",
    "c0 = np.sqrt(c.kB*T0/c.mg)\n",
    "h0 = np.sqrt(c.kB*T0*c.AU**3./(c.G*c.Mstar*c.mg))\n",
    "\n",
    "hg = h0*(r_grid/c.AU)**((q+3.)/2.)\n",
    "T = T0*(r_grid/c.AU)**q\n",
    "c_s = np.sqrt(c.kB*T/c.mg)\n",
    "OmegaK_mid = np.sqrt(c.G*c.Mstar/r_grid**3.)\n",
    "OmegaK =  OmegaK_mid*(1.+(z/r_grid)**2.)**(-3./4.)\n",
    "\n",
    "rho_0 = sigma0/(np.sqrt(2.*np.pi)*h0)\n",
    "rho_g = rho_0*(r_grid/c.AU)**p*np.exp(-z**2/(2.*hg**2.))\n",
    "\n",
    "rho_s = 1.4\n",
    "\n",
    "ts = np.sqrt(np.pi/8)*(rho_s*a)/(rho_g*cs)\n",
    "St = OmegaK*ts\n",
    "D_g = alpha*hg*cs\n",
    "D_d = D_g/(1.+St**2.)"
   ]
  }
 ],
 "metadata": {
  "kernelspec": {
   "display_name": "Python 3",
   "language": "python",
   "name": "python3"
  },
  "language_info": {
   "codemirror_mode": {
    "name": "ipython",
    "version": 3
   },
   "file_extension": ".py",
   "mimetype": "text/x-python",
   "name": "python",
   "nbconvert_exporter": "python",
   "pygments_lexer": "ipython3",
   "version": "3.7.4"
  }
 },
 "nbformat": 4,
 "nbformat_minor": 2
}
