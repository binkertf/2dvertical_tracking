{
 "cells": [
  {
   "cell_type": "code",
   "execution_count": 1,
   "metadata": {},
   "outputs": [],
   "source": [
    "import numpy as np\n",
    "import scipy as sp\n",
    "import constants as c\n",
    "import matplotlib.pyplot as plt\n",
    "import matplotlib.colors as colors\n",
    "from simu import Simu"
   ]
  },
  {
   "cell_type": "code",
   "execution_count": 2,
   "metadata": {},
   "outputs": [],
   "source": [
    "# generate the parameter file\n",
    "\n",
    "parameter_list = [\n",
    "                #disk\n",
    "                  'r_min = 0.2 #[AU]', \n",
    "                  'r_max = 7.0 #[AU]',\n",
    "                  'r_N = 500',\n",
    "                  'z_max = 0.6 #[AU]',\n",
    "                  'z_N = 501',\n",
    "    \n",
    "                # gas background\n",
    "                  'sigma0 = 2000. #gas surface density at 1 AU  [g/cm3]', \n",
    "                  'ps = -1.0 #surface density power law exponent',\n",
    "                  'T0 = 280. #gas temperature at 1 AU [K]',\n",
    "                  'q = -0.429 #temperature power law index',\n",
    "                  'alpha = 1.0e-4 #turbulence parameter',\n",
    "                #dust background\n",
    "                  'dtg = 0.01 #dust-to-gas ratio',\n",
    "                  'dbgmodel = birnst2012 #model of the background dust [birnst2012, SW]',\n",
    "                  'v_f = 500. #fragmemntation velocity [cm/s]',\n",
    "                  'v_b = 50. #bouncing velocity [cm/s]',\n",
    "                  'rho_s = 1.5 #dust solid density [g/cm3]',\n",
    "                  'a_min = 1.0e-5 #monormer radius (smallest grain size)[cm]',\n",
    "                  'a_max = 100. #maximum dust particle size bin [cm]',\n",
    "                  'Nf = 300 #number of dust particle bins',\n",
    "                  \n",
    "                #particle\n",
    "                  'a0 = 1.0e-4 #initial dust particle size [cm]',\n",
    "                  'z0 = 0.0 #initial altitude above the midplane [AU]',\n",
    "                  'r0 = 5.0 #initial radial position [AU] ',\n",
    "                  \n",
    "                #simulation modes   \n",
    "                  'collisions = True #collsion and growth of the particle',\n",
    "                  'barrier = fragmentation',\n",
    "                  'feps = 0.1 #group all the collisions below this mass fraction',\n",
    "                  'f_diff = 1.0e-2',\n",
    "                  'f_coll = 1.0',\n",
    "                  'randmotion = True #random dust motion due to turbulence',\n",
    "                  'viscev = False #viscous evolution of the gas background (not yet implemented)',\n",
    "                  'rad_vel = Fabian20',\n",
    "                \n",
    "                #simulation termination criteria\n",
    "                  't_tot = 6.0e6 #[yr], maximum simulation period',\n",
    "                  'r_end = 3.2 #[AU], simulation stops when particle corsses this radius'\n",
    "    \n",
    "                    \n",
    "                 ]\n",
    "\n",
    "\n",
    "\n",
    "with open('parameters.inp', 'w') as file_handler:\n",
    "    for item in parameter_list:\n",
    "        file_handler.write(\"{}\\n\".format(item))"
   ]
  },
  {
   "cell_type": "markdown",
   "metadata": {},
   "source": [
    "# generate the parameter file\n",
    "\n",
    "parameter_list = [\n",
    "                #disk\n",
    "                  'r_min = 0.2 #[AU]', \n",
    "                  'r_max = 7.0 #[AU]',\n",
    "                  'r_N = 500',\n",
    "                  'z_max = 0.6 #[AU]',\n",
    "                  'z_N = 501',\n",
    "    \n",
    "                # gas background\n",
    "                  'sigma0 = 2000. #gas surface density at 1 AU  [g/cm3]', \n",
    "                  'ps = -1.0 #surface density power law exponent',\n",
    "                  'T0 = 280. #gas temperature at 1 AU [K]',\n",
    "                  'q = -0.429 #temperature power law index',\n",
    "                  'alpha = 1.0e-3 #turbulence parameter',\n",
    "                #dust background\n",
    "                  'dtg = 0.01 #dust-to-gas ratio',\n",
    "                  'dbgmodel = birnst2012 #model of the background dust [birnst2012, SW]',\n",
    "                  'v_f = 500. #fragmemntation velocity [cm/s]',\n",
    "                  'v_b = 50. #bouncing velocity [cm/s]',\n",
    "                  'rho_s = 1.5 #dust solid density [g/cm3]',\n",
    "                  'a_min = 1.0e-5 #monormer radius (smallest grain size)[cm]',\n",
    "                  'a_max = 100. #maximum dust particle size bin [cm]',\n",
    "                  'Nf = 300 #number of dust particle bins',\n",
    "                  \n",
    "                #particle\n",
    "                  'a0 = 1.0e-5 #initial dust particle size [cm]',\n",
    "                  'z0 = 0.0 #initial altitude above the midplane [AU]',\n",
    "                  'r0 = 5.0 #initial radial position [AU] ',\n",
    "                  \n",
    "                #simulation modes   \n",
    "                  'collisions = True #collsion and growth of the particle',\n",
    "                  'barrier = fragmentation',\n",
    "                  'feps = 0.1 #group all the collisions below this mass fraction',\n",
    "                  'f_diff = 1.0e-2',\n",
    "                  'f_coll = 1.0',\n",
    "                  'randmotion = True #random dust motion due to turbulence',\n",
    "                  'viscev = False #viscous evolution of the gas background (not yet implemented)',\n",
    "                  'rad_vel = Fabian20',\n",
    "                \n",
    "                #simulation termination criteria\n",
    "                  't_tot = 1.0e5 #[yr], maximum simulation period',\n",
    "                  'r_end = 1.0 #[AU], simulation stops when particle corsses this radius'\n",
    "    \n",
    "                    \n",
    "                 ]\n",
    "\n",
    "\n",
    "\n",
    "with open('parameters.inp', 'w') as file_handler:\n",
    "    for item in parameter_list:\n",
    "        file_handler.write(\"{}\\n\".format(item))"
   ]
  },
  {
   "cell_type": "code",
   "execution_count": 3,
   "metadata": {},
   "outputs": [
    {
     "name": "stdout",
     "output_type": "stream",
     "text": [
      "initialization done.\n"
     ]
    }
   ],
   "source": [
    "simulation = Simu()\n",
    "simulation.initialize()\n",
    "simulation.update()"
   ]
  },
  {
   "cell_type": "code",
   "execution_count": 4,
   "metadata": {},
   "outputs": [],
   "source": [
    "r_grid = simulation.disk.r_grid/c.AU\n",
    "z_grid = simulation.disk.z_grid/c.AU\n",
    "r_plot,z_plot = np.meshgrid(z_grid, r_grid)\n",
    "\n",
    "hg = simulation.disk.gas.h_1d/c.AU\n",
    "\n",
    "rho_g = simulation.disk.gas.rho_2d"
   ]
  },
  {
   "cell_type": "code",
   "execution_count": 5,
   "metadata": {},
   "outputs": [
    {
     "name": "stdout",
     "output_type": "stream",
     "text": [
      "initialization done.\n"
     ]
    },
    {
     "ename": "NameError",
     "evalue": "name 'prnt' is not defined",
     "output_type": "error",
     "traceback": [
      "\u001b[0;31m---------------------------------------------------------------------------\u001b[0m",
      "\u001b[0;31mNameError\u001b[0m                                 Traceback (most recent call last)",
      "\u001b[0;32m<ipython-input-5-a5f51edf595e>\u001b[0m in \u001b[0;36m<module>\u001b[0;34m\u001b[0m\n\u001b[0;32m----> 1\u001b[0;31m \u001b[0msimulation\u001b[0m\u001b[0;34m.\u001b[0m\u001b[0mrun\u001b[0m\u001b[0;34m(\u001b[0m\u001b[0;34m)\u001b[0m \u001b[0;31m#run the simulation for t_tot years\u001b[0m\u001b[0;34m\u001b[0m\u001b[0;34m\u001b[0m\u001b[0m\n\u001b[0m\u001b[1;32m      2\u001b[0m \u001b[0mdata\u001b[0m \u001b[0;34m=\u001b[0m \u001b[0msimulation\u001b[0m\u001b[0;34m.\u001b[0m\u001b[0mparameters\u001b[0m\u001b[0;34m.\u001b[0m\u001b[0mdata\u001b[0m \u001b[0;31m#[t,z,r,a]\u001b[0m\u001b[0;34m\u001b[0m\u001b[0;34m\u001b[0m\u001b[0m\n",
      "\u001b[0;32m~/lmu/Coding/2dvertical_tracking/simu.py\u001b[0m in \u001b[0;36mrun\u001b[0;34m(self)\u001b[0m\n\u001b[1;32m    220\u001b[0m         \u001b[0;32mwhile\u001b[0m \u001b[0;34m(\u001b[0m\u001b[0;34m(\u001b[0m\u001b[0;34m(\u001b[0m\u001b[0mself\u001b[0m\u001b[0;34m.\u001b[0m\u001b[0mparameters\u001b[0m\u001b[0;34m.\u001b[0m\u001b[0mt\u001b[0m\u001b[0;34m)\u001b[0m\u001b[0;34m<\u001b[0m\u001b[0mself\u001b[0m\u001b[0;34m.\u001b[0m\u001b[0mparameters\u001b[0m\u001b[0;34m.\u001b[0m\u001b[0mt_tot\u001b[0m\u001b[0;34m)\u001b[0m \u001b[0;32mand\u001b[0m \u001b[0;34m(\u001b[0m\u001b[0;34m(\u001b[0m\u001b[0mself\u001b[0m\u001b[0;34m.\u001b[0m\u001b[0mparticle\u001b[0m\u001b[0;34m.\u001b[0m\u001b[0mr\u001b[0m\u001b[0;34m)\u001b[0m\u001b[0;34m>\u001b[0m\u001b[0mself\u001b[0m\u001b[0;34m.\u001b[0m\u001b[0mparameters\u001b[0m\u001b[0;34m.\u001b[0m\u001b[0mr_end\u001b[0m\u001b[0;34m)\u001b[0m\u001b[0;34m)\u001b[0m\u001b[0;34m:\u001b[0m\u001b[0;34m\u001b[0m\u001b[0;34m\u001b[0m\u001b[0m\n\u001b[1;32m    221\u001b[0m             \u001b[0;32mif\u001b[0m \u001b[0mself\u001b[0m\u001b[0;34m.\u001b[0m\u001b[0mparameters\u001b[0m\u001b[0;34m.\u001b[0m\u001b[0mcollisions\u001b[0m \u001b[0;34m==\u001b[0m \u001b[0;32mTrue\u001b[0m\u001b[0;34m:\u001b[0m\u001b[0;34m\u001b[0m\u001b[0;34m\u001b[0m\u001b[0m\n\u001b[0;32m--> 222\u001b[0;31m                 \u001b[0mself\u001b[0m\u001b[0;34m.\u001b[0m\u001b[0mrates\u001b[0m\u001b[0;34m(\u001b[0m\u001b[0;34m)\u001b[0m \u001b[0;31m#determin the collision rates\u001b[0m\u001b[0;34m\u001b[0m\u001b[0;34m\u001b[0m\u001b[0m\n\u001b[0m\u001b[1;32m    223\u001b[0m                 \u001b[0mself\u001b[0m\u001b[0;34m.\u001b[0m\u001b[0mparameters\u001b[0m\u001b[0;34m.\u001b[0m\u001b[0mupdate_dt\u001b[0m\u001b[0;34m(\u001b[0m\u001b[0mself\u001b[0m\u001b[0;34m)\u001b[0m \u001b[0;31m#updates the simulation parameters (e.g. dt)\u001b[0m\u001b[0;34m\u001b[0m\u001b[0;34m\u001b[0m\u001b[0m\n\u001b[1;32m    224\u001b[0m                 \u001b[0mself\u001b[0m\u001b[0;34m.\u001b[0m\u001b[0miter\u001b[0m\u001b[0;34m(\u001b[0m\u001b[0;34m)\u001b[0m \u001b[0;31m#displace the particle vertically according to Eq. 15\u001b[0m\u001b[0;34m\u001b[0m\u001b[0;34m\u001b[0m\u001b[0m\n",
      "\u001b[0;32m~/lmu/Coding/2dvertical_tracking/simu.py\u001b[0m in \u001b[0;36mrates\u001b[0;34m(self)\u001b[0m\n\u001b[1;32m     60\u001b[0m \u001b[0;34m\u001b[0m\u001b[0m\n\u001b[1;32m     61\u001b[0m     \u001b[0;32mdef\u001b[0m \u001b[0mrates\u001b[0m\u001b[0;34m(\u001b[0m\u001b[0mself\u001b[0m\u001b[0;34m)\u001b[0m\u001b[0;34m:\u001b[0m\u001b[0;34m\u001b[0m\u001b[0;34m\u001b[0m\u001b[0m\n\u001b[0;32m---> 62\u001b[0;31m         \u001b[0mself\u001b[0m\u001b[0;34m.\u001b[0m\u001b[0mdisk\u001b[0m\u001b[0;34m.\u001b[0m\u001b[0mdust\u001b[0m\u001b[0;34m.\u001b[0m\u001b[0mupdate_rates\u001b[0m\u001b[0;34m(\u001b[0m\u001b[0mself\u001b[0m\u001b[0;34m)\u001b[0m \u001b[0;31m#compute all the collision rates\u001b[0m\u001b[0;34m\u001b[0m\u001b[0;34m\u001b[0m\u001b[0m\n\u001b[0m\u001b[1;32m     63\u001b[0m \u001b[0;34m\u001b[0m\u001b[0m\n\u001b[1;32m     64\u001b[0m     \u001b[0;32mdef\u001b[0m \u001b[0mupdate\u001b[0m\u001b[0;34m(\u001b[0m\u001b[0mself\u001b[0m\u001b[0;34m)\u001b[0m\u001b[0;34m:\u001b[0m\u001b[0;34m\u001b[0m\u001b[0;34m\u001b[0m\u001b[0m\n",
      "\u001b[0;32m~/lmu/Coding/2dvertical_tracking/dust.py\u001b[0m in \u001b[0;36mupdate_rates\u001b[0;34m(self, simu)\u001b[0m\n\u001b[1;32m    120\u001b[0m         \u001b[0mmask\u001b[0m \u001b[0;34m=\u001b[0m \u001b[0mself\u001b[0m\u001b[0;34m.\u001b[0m\u001b[0ma_grid\u001b[0m\u001b[0;34m>\u001b[0m\u001b[0;34m(\u001b[0m\u001b[0;36m2.25\u001b[0m\u001b[0;34m*\u001b[0m\u001b[0msimu\u001b[0m\u001b[0;34m.\u001b[0m\u001b[0mdisk\u001b[0m\u001b[0;34m.\u001b[0m\u001b[0mgas\u001b[0m\u001b[0;34m.\u001b[0m\u001b[0mlmfp\u001b[0m\u001b[0;34m)\u001b[0m\u001b[0;34m\u001b[0m\u001b[0;34m\u001b[0m\u001b[0m\n\u001b[1;32m    121\u001b[0m         \u001b[0;32mif\u001b[0m \u001b[0mself\u001b[0m\u001b[0;34m.\u001b[0m\u001b[0mts\u001b[0m\u001b[0;34m[\u001b[0m\u001b[0mmask\u001b[0m\u001b[0;34m]\u001b[0m \u001b[0;34m!=\u001b[0m \u001b[0;34m[\u001b[0m\u001b[0;34m]\u001b[0m\u001b[0;34m:\u001b[0m\u001b[0;34m\u001b[0m\u001b[0;34m\u001b[0m\u001b[0m\n\u001b[0;32m--> 122\u001b[0;31m             \u001b[0mprnt\u001b[0m\u001b[0;34m(\u001b[0m\u001b[0;34m'#######'\u001b[0m\u001b[0;34m)\u001b[0m\u001b[0;34m\u001b[0m\u001b[0;34m\u001b[0m\u001b[0m\n\u001b[0m\u001b[1;32m    123\u001b[0m             \u001b[0mself\u001b[0m\u001b[0;34m.\u001b[0m\u001b[0mts\u001b[0m\u001b[0;34m[\u001b[0m\u001b[0mmask\u001b[0m\u001b[0;34m]\u001b[0m \u001b[0;34m=\u001b[0m \u001b[0;34m(\u001b[0m\u001b[0;36m4.\u001b[0m\u001b[0;34m*\u001b[0m\u001b[0mself\u001b[0m\u001b[0;34m.\u001b[0m\u001b[0ma_grid\u001b[0m\u001b[0;34m[\u001b[0m\u001b[0mmask\u001b[0m\u001b[0;34m]\u001b[0m\u001b[0;34m)\u001b[0m\u001b[0;34m/\u001b[0m\u001b[0;34m(\u001b[0m\u001b[0;36m9.\u001b[0m\u001b[0;34m*\u001b[0m\u001b[0msimu\u001b[0m\u001b[0;34m.\u001b[0m\u001b[0mdisk\u001b[0m\u001b[0;34m.\u001b[0m\u001b[0mgas\u001b[0m\u001b[0;34m.\u001b[0m\u001b[0mlmfp\u001b[0m\u001b[0;34m)\u001b[0m\u001b[0;34m*\u001b[0m\u001b[0mself\u001b[0m\u001b[0;34m.\u001b[0m\u001b[0mts\u001b[0m\u001b[0;34m[\u001b[0m\u001b[0mmask\u001b[0m\u001b[0;34m]\u001b[0m\u001b[0;34m\u001b[0m\u001b[0;34m\u001b[0m\u001b[0m\n\u001b[1;32m    124\u001b[0m             \u001b[0mself\u001b[0m\u001b[0;34m.\u001b[0m\u001b[0mts_mp\u001b[0m\u001b[0;34m[\u001b[0m\u001b[0mmask\u001b[0m\u001b[0;34m]\u001b[0m \u001b[0;34m=\u001b[0m \u001b[0;34m(\u001b[0m\u001b[0;36m4.\u001b[0m\u001b[0;34m*\u001b[0m\u001b[0mself\u001b[0m\u001b[0;34m.\u001b[0m\u001b[0ma_grid\u001b[0m\u001b[0;34m[\u001b[0m\u001b[0mmask\u001b[0m\u001b[0;34m]\u001b[0m\u001b[0;34m)\u001b[0m\u001b[0;34m/\u001b[0m\u001b[0;34m(\u001b[0m\u001b[0;36m9.\u001b[0m\u001b[0;34m*\u001b[0m\u001b[0msimu\u001b[0m\u001b[0;34m.\u001b[0m\u001b[0mdisk\u001b[0m\u001b[0;34m.\u001b[0m\u001b[0mgas\u001b[0m\u001b[0;34m.\u001b[0m\u001b[0mlmfp\u001b[0m\u001b[0;34m)\u001b[0m\u001b[0;34m*\u001b[0m\u001b[0mself\u001b[0m\u001b[0;34m.\u001b[0m\u001b[0mts_mp\u001b[0m\u001b[0;34m[\u001b[0m\u001b[0mmask\u001b[0m\u001b[0;34m]\u001b[0m\u001b[0;34m\u001b[0m\u001b[0;34m\u001b[0m\u001b[0m\n",
      "\u001b[0;31mNameError\u001b[0m: name 'prnt' is not defined"
     ]
    }
   ],
   "source": [
    "simulation.run() #run the simulation for t_tot years\n",
    "data = simulation.parameters.data #[t,z,r,a]"
   ]
  },
  {
   "cell_type": "code",
   "execution_count": null,
   "metadata": {},
   "outputs": [],
   "source": [
    "from matplotlib.collections import LineCollection\n",
    "from matplotlib.colors import ListedColormap, BoundaryNorm"
   ]
  },
  {
   "cell_type": "code",
   "execution_count": null,
   "metadata": {},
   "outputs": [],
   "source": [
    "t = data[:,0]/c.yr\n",
    "r = data[:,2]/c.AU\n",
    "z = data[:,1]/c.AU\n",
    "a = data[:,3]\n",
    "T = data[:,4]\n",
    "\n",
    "# Create a set of line segments so that we can color them individually\n",
    "# This creates the points as a N x 1 x 2 array so that we can stack points\n",
    "# together easily to get the segments. The segments array for line collection\n",
    "# needs to be (numlines) x (points per line) x 2 (for x and y)\n",
    "points = np.array([r, z]).T.reshape(-1, 1, 2)\n",
    "segments = np.concatenate([points[:-1], points[1:]], axis=1)"
   ]
  },
  {
   "cell_type": "code",
   "execution_count": null,
   "metadata": {},
   "outputs": [],
   "source": [
    "font = {'weight' : 'normal',\n",
    "        'size'   : 14}\n",
    "plt.rc('font', **font)\n",
    "\n",
    "\n",
    "amin = np.min(rho_g)\n",
    "amax = np.max(rho_g)\n",
    "\n",
    "\n",
    "fig, axs = plt.subplots(1, 1,figsize=(10,7))\n",
    "axs.pcolormesh(z_plot, r_plot, rho_g,norm=colors.LogNorm(vmin=1.0e-20, vmax=amax), cmap='magma')\n",
    "\n",
    "#plot the disk scale heights\n",
    "axs.plot(r_grid,0.*hg,color='r',linestyle=':')\n",
    "axs.plot(r_grid,1.*hg,color='r',linestyle=':')\n",
    "axs.plot(r_grid,2.*hg,color='r',linestyle=':')\n",
    "axs.plot(r_grid,3.*hg,color='r',linestyle=':')\n",
    "axs.plot(r_grid,-1.*hg,color='r',linestyle=':')\n",
    "axs.plot(r_grid,-2.*hg,color='r',linestyle=':')\n",
    "axs.plot(r_grid,-3.*hg,color='r',linestyle=':')\n",
    "\n",
    "# Create a continuous norm to map from data points to colors\n",
    "#norm = plt.Normalize(a.min(), a.max())\n",
    "norm=colors.LogNorm(vmin=a.min(), vmax=a.max())\n",
    "lc = LineCollection(segments, cmap='viridis', norm=norm)\n",
    "# Set the values used for colormapping\n",
    "lc.set_array(a)\n",
    "lc.set_linewidth(1.0)\n",
    "line = axs.add_collection(lc)\n",
    "cbar=fig.colorbar(line, ax=axs)\n",
    "cbar.set_label('particle size [cm]')\n",
    "\n",
    "plt.xlabel('r [AU]')\n",
    "plt.ylabel('z [AU]')\n",
    "\n",
    "axs.set_xlim(simulation.disk.r_min/c.AU,simulation.disk.r_max/c.AU)\n",
    "axs.set_ylim(simulation.disk.z_min/c.AU,simulation.disk.z_max/c.AU)\n",
    "plt.show()"
   ]
  },
  {
   "cell_type": "markdown",
   "metadata": {},
   "source": [
    "detail plots"
   ]
  },
  {
   "cell_type": "code",
   "execution_count": null,
   "metadata": {},
   "outputs": [],
   "source": [
    "fig, ax = plt.subplots(2, 2,figsize=(10,8))\n",
    "\n",
    "ax[0][0].plot(np.abs(z/r),t)\n",
    "ax[0][0].set_title('height/radius')\n",
    "ax[0][0].set_ylabel('t [yr]')\n",
    "ax[0][0].set_xlabel('z/r')\n",
    "ax[0][0].set_yscale('log')\n",
    "ax[0][0].set_ylim(2e1,3e5)\n",
    "ax[0][0].grid()\n",
    "\n",
    "\n",
    "\n",
    "ax[0][1].plot(r,t)\n",
    "ax[0][1].set_title('radial position')\n",
    "ax[0][1].set_ylabel('t [yr]')\n",
    "ax[0][1].set_xlabel('r [AU]')\n",
    "ax[0][1].set_ylim(2e1,3e5)\n",
    "ax[0][1].set_yscale('log')\n",
    "ax[0][1].grid()\n",
    "\n",
    "ax[1][0].plot(a,t)\n",
    "ax[1][0].set_title('particle size')\n",
    "ax[1][0].set_ylabel('t [yr]')\n",
    "ax[1][0].set_xlabel('a [cm]')\n",
    "ax[1][0].set_xlim(5e-5,5e0)\n",
    "ax[1][0].set_ylim(2e1,3e5)\n",
    "ax[1][0].set_xscale('log')\n",
    "ax[1][0].set_yscale('log')\n",
    "\n",
    "ax[1][1].plot(T,t)\n",
    "ax[1][1].set_title('temperature')\n",
    "ax[1][1].set_ylabel('t [yr]')\n",
    "ax[1][1].set_xlabel('T [K]')\n",
    "ax[1][1].set_yscale('log')\n",
    "ax[1][1].set_ylim(2e1,3e5)\n",
    "ax[1][1].grid()\n",
    "\n",
    "\n",
    "\n",
    "plt.tight_layout()\n",
    "plt.show()"
   ]
  },
  {
   "cell_type": "code",
   "execution_count": null,
   "metadata": {},
   "outputs": [],
   "source": [
    "fig, ax = plt.subplots(2, 2,figsize=(10,8))\n",
    "\n",
    "ax[0][0].plot(t,z)\n",
    "ax[0][0].set_title('height')\n",
    "ax[0][0].set_xlabel('t [yr]')\n",
    "ax[0][0].set_ylabel('z [AU]')\n",
    "ax[0][0].grid()\n",
    "\n",
    "\n",
    "\n",
    "ax[0][1].plot(r,t)\n",
    "ax[0][1].set_title('radial position')\n",
    "ax[0][1].set_ylabel('t [yr]')\n",
    "ax[0][1].set_xlabel('r [AU]')\n",
    "#ax[0][1].set_ylim(1e3,2e5)\n",
    "ax[0][1].set_yscale('log')\n",
    "ax[0][1].grid()\n",
    "\n",
    "ax[1][0].plot(t,a)\n",
    "ax[1][0].set_title('particle size')\n",
    "ax[1][0].set_xlabel('t [yr]')\n",
    "ax[1][0].set_ylabel('a [cm]')\n",
    "#ax[1][0].set_xlim(5e-5,5e0)\n",
    "#ax[1][0].set_ylim(2e1,3e5)\n",
    "#ax[1][0].set_xscale('log')\n",
    "ax[1][0].set_yscale('log')\n",
    "\n",
    "ax[1][1].plot(t,T)\n",
    "ax[1][1].set_title('temperature')\n",
    "ax[1][1].set_xlabel('t [yr]')\n",
    "ax[1][1].set_ylabel('T [K]')\n",
    "ax[1][1].grid()\n",
    "\n",
    "\n",
    "\n",
    "plt.tight_layout()\n",
    "plt.show()"
   ]
  },
  {
   "cell_type": "code",
   "execution_count": null,
   "metadata": {},
   "outputs": [],
   "source": [
    "print(t)"
   ]
  },
  {
   "cell_type": "code",
   "execution_count": null,
   "metadata": {},
   "outputs": [],
   "source": []
  }
 ],
 "metadata": {
  "kernelspec": {
   "display_name": "Python 3",
   "language": "python",
   "name": "python3"
  },
  "language_info": {
   "codemirror_mode": {
    "name": "ipython",
    "version": 3
   },
   "file_extension": ".py",
   "mimetype": "text/x-python",
   "name": "python",
   "nbconvert_exporter": "python",
   "pygments_lexer": "ipython3",
   "version": "3.7.4"
  }
 },
 "nbformat": 4,
 "nbformat_minor": 2
}
