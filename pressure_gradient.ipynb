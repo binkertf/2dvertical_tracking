{
 "cells": [
  {
   "cell_type": "code",
   "execution_count": 1,
   "metadata": {},
   "outputs": [],
   "source": [
    "import numpy as np\n",
    "import scipy as sp\n",
    "import constants as c\n",
    "import matplotlib.pyplot as plt\n",
    "import matplotlib.colors as colors\n",
    "from simu import Simu\n",
    "import utils as ut"
   ]
  },
  {
   "cell_type": "code",
   "execution_count": 33,
   "metadata": {},
   "outputs": [],
   "source": [
    "simulation = Simu()\n",
    "simulation.disk.r_min = 2.0*c.AU\n",
    "simulation.initialize()\n",
    "simulation.update()\n",
    "cs = simulation.disk.gas.cs_2d\n",
    "rho_g = simulation.disk.gas.rho_2d"
   ]
  },
  {
   "cell_type": "code",
   "execution_count": 34,
   "metadata": {},
   "outputs": [
    {
     "name": "stdout",
     "output_type": "stream",
     "text": [
      "(500, 501)\n",
      "(500, 501)\n"
     ]
    }
   ],
   "source": [
    "print(cs.shape)\n",
    "print(rho_g.shape)\n",
    "p = rho_g*cs**2."
   ]
  },
  {
   "cell_type": "code",
   "execution_count": 35,
   "metadata": {},
   "outputs": [],
   "source": [
    "r_grid = simulation.disk.r_grid/c.AU\n",
    "z_grid = simulation.disk.z_grid/c.AU\n",
    "r_plot,z_plot = np.meshgrid(z_grid, r_grid)"
   ]
  },
  {
   "cell_type": "code",
   "execution_count": 36,
   "metadata": {},
   "outputs": [
    {
     "data": {
      "image/png": "[encoded data removed]",
      "text/plain": [
       "<Figure size 504x396 with 1 Axes>"
      ]
     },
     "metadata": {
      "needs_background": "light"
     },
     "output_type": "display_data"
    }
   ],
   "source": [
    "font = {'weight' : 'normal',\n",
    "        'size'   : 16}\n",
    "plt.rc('font', **font)\n",
    "\n",
    "amin = np.min(p)\n",
    "amax = np.max(p)\n",
    "from matplotlib import ticker, cm\n",
    "plt.figure(figsize=(7,5.5))\n",
    "plt.contourf(z_plot, r_plot, p,levels=10,norm=colors.LogNorm())#,norm=colors.LogNorm(vmin=1.0e-20, vmax=amax), cmap='magma')\n",
    "plt.show()"
   ]
  },
  {
   "cell_type": "code",
   "execution_count": null,
   "metadata": {},
   "outputs": [],
   "source": []
  }
 ],
 "metadata": {
  "kernelspec": {
   "display_name": "Python 3",
   "language": "python",
   "name": "python3"
  },
  "language_info": {
   "codemirror_mode": {
    "name": "ipython",
    "version": 3
   },
   "file_extension": ".py",
   "mimetype": "text/x-python",
   "name": "python",
   "nbconvert_exporter": "python",
   "pygments_lexer": "ipython3",
   "version": "3.7.4"
  }
 },
 "nbformat": 4,
 "nbformat_minor": 2
}
